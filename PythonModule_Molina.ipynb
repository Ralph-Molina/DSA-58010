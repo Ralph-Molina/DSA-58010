{
  "nbformat": 4,
  "nbformat_minor": 0,
  "metadata": {
    "colab": {
      "provenance": [],
      "collapsed_sections": [],
      "authorship_tag": "ABX9TyMbn226wsJEhYWaJmJFgwIS",
      "include_colab_link": true
    },
    "kernelspec": {
      "name": "python3",
      "display_name": "Python 3"
    },
    "language_info": {
      "name": "python"
    }
  },
  "cells": [
    {
      "cell_type": "markdown",
      "metadata": {
        "id": "view-in-github",
        "colab_type": "text"
      },
      "source": [
        "<a href=\"https://colab.research.google.com/github/RalphMolina/DSA-58010/blob/main/PythonModule_Molina.ipynb\" target=\"_parent\"><img src=\"https://colab.research.google.com/assets/colab-badge.svg\" alt=\"Open In Colab\"/></a>"
      ]
    },
    {
      "cell_type": "markdown",
      "source": [
        "Example 1\n"
      ],
      "metadata": {
        "id": "iPJ9nWjdCdiF"
      }
    },
    {
      "cell_type": "code",
      "execution_count": null,
      "metadata": {
        "colab": {
          "base_uri": "https://localhost:8080/"
        },
        "id": "MDzDFbth99Z3",
        "outputId": "511d4ebf-a14e-4ee8-ddd2-946c1d030ca4"
      },
      "outputs": [
        {
          "output_type": "stream",
          "name": "stdout",
          "text": [
            "i\n",
            "f\n"
          ]
        }
      ],
      "source": [
        "import array\n",
        "\n",
        "array.typecodes #to get all typecodes\n",
        "\n",
        "a = array.array('i', [1, 2, 3, 4, 5, 6]) #initializing array \"a\"\n",
        "b = array.array('f', [1.5, 2.5, 3.5, 4.5, 5.5, 6.5]) #initializing array \"b\"\n",
        "\n",
        "print (a.typecode) #getting the typecode of \"a\"\n",
        "print (b.typecode) #getting the typecode of \"b\""
      ]
    },
    {
      "cell_type": "markdown",
      "source": [
        "Example 2\n"
      ],
      "metadata": {
        "id": "qiRMza4YCaRf"
      }
    },
    {
      "cell_type": "code",
      "source": [
        "A = array.array('f',[1,2,3,4,5,6])    #initializing elements of array A\n",
        "print(A)"
      ],
      "metadata": {
        "colab": {
          "base_uri": "https://localhost:8080/"
        },
        "id": "K0kRp7RyCglA",
        "outputId": "fbc71685-fddc-409c-9a00-f1c1276a6e57"
      },
      "execution_count": 4,
      "outputs": [
        {
          "output_type": "stream",
          "name": "stdout",
          "text": [
            "array('f', [1.0, 2.0, 3.0, 4.0, 5.0, 6.0])\n"
          ]
        }
      ]
    },
    {
      "cell_type": "markdown",
      "source": [
        "Example 3"
      ],
      "metadata": {
        "id": "N9aFSXADDAB8"
      }
    },
    {
      "cell_type": "code",
      "source": [
        "import array\n",
        "a = array.array('i',[4,5,6,7]) #initializing array a\n",
        "a.insert(1,2) #insert element 2 to index 1\n",
        "print(a)\n",
        "a.insert(-1,0) #insert element 0 to index -1\n",
        "print(a)\n",
        "a.insert(6,8) #insert element 8 to index 6\n",
        "print(a)\n"
      ],
      "metadata": {
        "colab": {
          "base_uri": "https://localhost:8080/"
        },
        "id": "5AQUzk-3DBYi",
        "outputId": "890c1e6a-55a7-472e-b992-f3fbd491f08b"
      },
      "execution_count": 3,
      "outputs": [
        {
          "output_type": "stream",
          "name": "stdout",
          "text": [
            "array('i', [4, 2, 5, 6, 7])\n",
            "array('i', [4, 2, 5, 6, 0, 7])\n",
            "array('i', [4, 2, 5, 6, 0, 7, 8])\n"
          ]
        }
      ]
    },
    {
      "cell_type": "code",
      "source": [
        "import array\n",
        "a = array.array('i',[4,5,6,7])  #initializing array a\n",
        "b = array.array('i',[1,2,3])    #initializing array b\n",
        "a.insert(1,2)                   #inserting element: 2 at index: 1\n",
        "print(a)                        #printing array A\n",
        "a.insert(-1,0)                  #insert element:0 at index: -1\n",
        "print(a)\n",
        "a.insert(6,8)                   #insert element: 8 at index:6, this is out of range\n",
        "print(a)                        #append the last element of the array\n",
        "b[0] = 5\n",
        "b[1] = 4\n",
        "b[2] = 3\n",
        "print(b)"
      ],
      "metadata": {
        "colab": {
          "base_uri": "https://localhost:8080/"
        },
        "id": "HVOxPq9YPGTL",
        "outputId": "9c4d0abf-b963-44ac-dde6-d400a46272dd"
      },
      "execution_count": 5,
      "outputs": [
        {
          "output_type": "stream",
          "name": "stdout",
          "text": [
            "array('i', [4, 2, 5, 6, 7])\n",
            "array('i', [4, 2, 5, 6, 0, 7])\n",
            "array('i', [4, 2, 5, 6, 0, 7, 8])\n",
            "array('i', [5, 4, 3])\n"
          ]
        }
      ]
    },
    {
      "cell_type": "markdown",
      "source": [
        "Linked List"
      ],
      "metadata": {
        "id": "ZaGVKH3hPHvF"
      }
    },
    {
      "cell_type": "code",
      "source": [
        "#function that creates Node object\n",
        "class Node:                   #initialize Node class\n",
        "  def __init__(self,data):    \n",
        "    self.data = data          #Assign data\n",
        "    self.next = None          #Initialize as null\n",
        "            \n",
        "##function that creates LinkedList object\n",
        "class LinkedList:             #initialize the LinkedList class      \n",
        "  def __init__(self):         \n",
        "    self.head = None          #initialize head as null\n",
        "  def printList(self):\n",
        "    temp = self.head\n",
        "    while(temp):\n",
        "      print(temp.data)\n",
        "      temp = temp.next\n",
        "\n",
        "list = LinkedList()           #empty list\n",
        "list.head = Node(1) \n",
        "second = Node(2)\n",
        "third = Node(3)\n",
        "fourth = Node(4)\n",
        "\n",
        "list.head.next = second\n",
        "second.next = third\n",
        "third.next = fourth\n",
        "\n",
        "list.printList()"
      ],
      "metadata": {
        "colab": {
          "base_uri": "https://localhost:8080/"
        },
        "id": "eeHDEvPXPL--",
        "outputId": "fda64cc2-4c36-489f-cc53-ba7e6587fd34"
      },
      "execution_count": 6,
      "outputs": [
        {
          "output_type": "stream",
          "name": "stdout",
          "text": [
            "1\n",
            "2\n",
            "3\n",
            "4\n"
          ]
        }
      ]
    }
  ]
}