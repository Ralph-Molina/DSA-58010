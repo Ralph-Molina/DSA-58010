{
  "nbformat": 4,
  "nbformat_minor": 0,
  "metadata": {
    "colab": {
      "name": "Practical Lab Exam.MOLINA.ipynb",
      "provenance": [],
      "authorship_tag": "ABX9TyO4FjVxBhNnqgt7PjA6HQp0",
      "include_colab_link": true
    },
    "kernelspec": {
      "name": "python3",
      "display_name": "Python 3"
    },
    "language_info": {
      "name": "python"
    }
  },
  "cells": [
    {
      "cell_type": "markdown",
      "metadata": {
        "id": "view-in-github",
        "colab_type": "text"
      },
      "source": [
        "<a href=\"https://colab.research.google.com/github/RalphMolina/DSA-58010/blob/main/Practical_Lab_Exam_MOLINA.ipynb\" target=\"_parent\"><img src=\"https://colab.research.google.com/assets/colab-badge.svg\" alt=\"Open In Colab\"/></a>"
      ]
    },
    {
      "cell_type": "code",
      "source": [
        "list1 = [26,49,98,87,62,75]\n",
        "\n",
        "only_even = [num for num in list1 if num % 2 == 0]\n",
        "res = sum(only_even)\n",
        "\n",
        "print (\"The even numbers are: \",only_even)\n",
        "print (\"The sum of all even numbers are: \",res)"
      ],
      "metadata": {
        "colab": {
          "base_uri": "https://localhost:8080/"
        },
        "id": "WtpATw_Ig5j9",
        "outputId": "8b9fc683-168e-41f6-da5e-aa94801f78dc"
      },
      "execution_count": 1,
      "outputs": [
        {
          "output_type": "stream",
          "name": "stdout",
          "text": [
            "The even numbers are:  [26, 98, 62]\n",
            "The sum of all even numbers are:  186\n"
          ]
        }
      ]
    }
  ]
}