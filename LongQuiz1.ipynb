{
  "nbformat": 4,
  "nbformat_minor": 0,
  "metadata": {
    "colab": {
      "provenance": [],
      "authorship_tag": "ABX9TyNXXc2DU14Pe3TU2e7I1qzV",
      "include_colab_link": true
    },
    "kernelspec": {
      "name": "python3",
      "display_name": "Python 3"
    },
    "language_info": {
      "name": "python"
    }
  },
  "cells": [
    {
      "cell_type": "markdown",
      "metadata": {
        "id": "view-in-github",
        "colab_type": "text"
      },
      "source": [
        "<a href=\"https://colab.research.google.com/github/RalphMolina/DSA-58010/blob/main/LongQuiz1.ipynb\" target=\"_parent\"><img src=\"https://colab.research.google.com/assets/colab-badge.svg\" alt=\"Open In Colab\"/></a>"
      ]
    },
    {
      "cell_type": "markdown",
      "source": [
        "**ARRAY**"
      ],
      "metadata": {
        "id": "shWMduJXecfZ"
      }
    },
    {
      "cell_type": "code",
      "execution_count": 9,
      "metadata": {
        "colab": {
          "base_uri": "https://localhost:8080/"
        },
        "id": "7WV5fX2deYfV",
        "outputId": "27664b52-aa36-44ee-c6bf-f26dad801a96"
      },
      "outputs": [
        {
          "output_type": "stream",
          "name": "stdout",
          "text": [
            "Full Name: ['Ralph', 'Michael', 'Molina']\n",
            "Reversed Full Name: ['Molina', 'Michael', 'Ralph']\n"
          ]
        }
      ],
      "source": [
        "arr = [\"Ralph\", \"Michael\", \"Molina\"]\n",
        "print(\"Full Name:\",arr)\n",
        "\n",
        "res = arr[::-1]\n",
        "print(\"Reversed Full Name:\",res) "
      ]
    }
  ]
}