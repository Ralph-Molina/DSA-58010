{
  "nbformat": 4,
  "nbformat_minor": 0,
  "metadata": {
    "colab": {
      "provenance": [],
      "authorship_tag": "ABX9TyN4evKhbkSFu0Ts5G85Qh8Y",
      "include_colab_link": true
    },
    "kernelspec": {
      "name": "python3",
      "display_name": "Python 3"
    },
    "language_info": {
      "name": "python"
    }
  },
  "cells": [
    {
      "cell_type": "markdown",
      "metadata": {
        "id": "view-in-github",
        "colab_type": "text"
      },
      "source": [
        "<a href=\"https://colab.research.google.com/github/RalphMolina/DSA-58010/blob/main/Prelim%20Exam%20MOLINA.ipynb\" target=\"_parent\"><img src=\"https://colab.research.google.com/assets/colab-badge.svg\" alt=\"Open In Colab\"/></a>"
      ]
    },
    {
      "cell_type": "markdown",
      "source": [
        "Choose Array data structure\n",
        "Create a python program that creates the array list below and counts the no. of even numbers\n",
        " A = [1,2,3,4,5,6,7,8,9,10]"
      ],
      "metadata": {
        "id": "FpLOn8Lrmra1"
      }
    },
    {
      "cell_type": "code",
      "execution_count": 2,
      "metadata": {
        "colab": {
          "base_uri": "https://localhost:8080/"
        },
        "id": "VLd5ieA1mQna",
        "outputId": "f1a634eb-8256-44ce-9ec4-ab784590d84b"
      },
      "outputs": [
        {
          "output_type": "stream",
          "name": "stdout",
          "text": [
            "Integers: [1, 2, 3, 4, 5, 6, 7, 8, 9, 10]\n",
            "\n",
            "The list of even numbers in array are 2, 4, 6, 8, 10\n",
            "The count of even numbers in array is 5\n"
          ]
        }
      ],
      "source": [
        "A = [1,2,3,4,5,6,7,8,9,10]\n",
        "print(\"Integers:\", A)\n",
        "\n",
        "int = \"2, 4, 6, 8, 10\"\n",
        "print(\"\")\n",
        "print(\"The list of even numbers in array are\", int) \n",
        "\n",
        "def even(int):\n",
        "  even = set(\"24680\")\n",
        "  count = 0\n",
        "\n",
        "  for number in int:\n",
        "    if number in even:\n",
        "      count = count + 1\n",
        "\n",
        "  print(\"The count of even numbers in array is\", count)\n",
        "\n",
        "even(int)"
      ]
    }
  ]
}