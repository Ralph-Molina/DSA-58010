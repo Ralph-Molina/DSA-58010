{
  "nbformat": 4,
  "nbformat_minor": 0,
  "metadata": {
    "colab": {
      "name": "Computing of Area.MOLINA.ipynb",
      "provenance": [],
      "authorship_tag": "ABX9TyMN/SDqyphak9Ur+M80kXov",
      "include_colab_link": true
    },
    "kernelspec": {
      "name": "python3",
      "display_name": "Python 3"
    },
    "language_info": {
      "name": "python"
    }
  },
  "cells": [
    {
      "cell_type": "markdown",
      "metadata": {
        "id": "view-in-github",
        "colab_type": "text"
      },
      "source": [
        "<a href=\"https://colab.research.google.com/github/RalphMolina/DSA-58010/blob/main/Computing_of_Area_MOLINA.ipynb\" target=\"_parent\"><img src=\"https://colab.research.google.com/assets/colab-badge.svg\" alt=\"Open In Colab\"/></a>"
      ]
    },
    {
      "cell_type": "markdown",
      "source": [
        "Create a Python Program that Computes the Area of a Circle"
      ],
      "metadata": {
        "id": "HGo6kROLj5Un"
      }
    },
    {
      "cell_type": "code",
      "execution_count": 4,
      "metadata": {
        "colab": {
          "base_uri": "https://localhost:8080/"
        },
        "id": "3bxTFb94Y3pU",
        "outputId": "5bab1f02-7b43-4ef5-ea7b-eb31179ce6f1"
      },
      "outputs": [
        {
          "output_type": "stream",
          "name": "stdout",
          "text": [
            "Enter the radius of the cirlce: 32\n",
            "Area of the Circle is : 3216.990877275948\n"
          ]
        }
      ],
      "source": [
        "import math\n",
        "\n",
        "radius = float(input(\"Enter the radius of the cirlce: \"))\n",
        "\n",
        "area = math.pi * radius * radius\n",
        "\n",
        "print(\"Area of the Circle is : {0}\".format(area))"
      ]
    },
    {
      "cell_type": "code",
      "source": [
        "diameter = float(input(\"Enter the diameter of circle\"))\n",
        "\n",
        "unit = input(\"Enter the measure unit of diameter (e.g. in, cm) \")\n",
        "\n",
        "area = ((1 / 4) * (22/7) * (diameter * diameter))\n",
        "\n",
        "print(\"Area of a circle is : \",area,unit+\"2\")"
      ],
      "metadata": {
        "colab": {
          "base_uri": "https://localhost:8080/"
        },
        "id": "lMSZuS03lcxv",
        "outputId": "ad4b201a-29d6-4f5b-fa5c-f0c68a021fb4"
      },
      "execution_count": 6,
      "outputs": [
        {
          "output_type": "stream",
          "name": "stdout",
          "text": [
            "Enter the diameter of circle3\n",
            "Enter the measure unit of diameter (e.g. in, cm) in\n",
            "Area of a circle is :  7.071428571428571 in2\n"
          ]
        }
      ]
    }
  ]
}